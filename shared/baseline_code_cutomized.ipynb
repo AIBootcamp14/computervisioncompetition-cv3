{
 "cells": [
  {
   "attachments": {},
   "cell_type": "markdown",
   "metadata": {
    "id": "OliaDaX_lwou"
   },
   "source": [
    "# **📄 Document type classification baseline code**\n",
    "> 문서 타입 분류 대회에 오신 여러분 환영합니다! 🎉     \n",
    "> 아래 baseline에서는 ResNet 모델을 로드하여, 모델을 학습 및 예측 파일 생성하는 프로세스에 대해 알아보겠습니다.\n",
    "\n",
    "## Contents\n",
    "- Prepare Environments\n",
    "- Import Library & Define Functions\n",
    "- Hyper-parameters\n",
    "- Load Data\n",
    "- Train Model\n",
    "- Inference & Save File\n"
   ]
  },
  {
   "attachments": {},
   "cell_type": "markdown",
   "metadata": {
    "id": "zkH9T_86lDSS"
   },
   "source": [
    "## 1. Prepare Environments\n",
    "\n",
    "* 필요한 라이브러리를 설치합니다.\n",
    "* 로컬 data 폴더에서 데이터셋을 로드합니다."
   ]
  },
  {
   "cell_type": "code",
   "execution_count": 1,
   "metadata": {
    "colab": {
     "base_uri": "https://localhost:8080/"
    },
    "executionInfo": {
     "elapsed": 21945,
     "status": "ok",
     "timestamp": 1700314517484,
     "user": {
      "displayName": "Ynot(송원호)",
      "userId": "16271863862696372773"
     },
     "user_tz": -540
    },
    "id": "pUjnEto4gIZm",
    "outputId": "0999f10c-e1ff-428c-995b-481eec8a0b58"
   },
   "outputs": [
    {
     "name": "stdout",
     "output_type": "stream",
     "text": [
      "데이터 경로: /home/james/doc-classification/computervisioncompetition-cv3/data\n",
      "데이터 폴더 존재 여부: True\n"
     ]
    }
   ],
   "source": [
    "# 데이터셋 경로 설정\n",
    "# 로컬 data 폴더에서 데이터를 로드합니다.\n",
    "import os\n",
    "\n",
    "# 프로젝트 루트 디렉토리 기준으로 data 폴더 경로 설정\n",
    "project_root = os.path.abspath('..')  # shared 폴더에서 상위 폴더로 이동\n",
    "data_path = os.path.join(project_root, 'data')\n",
    "\n",
    "print(f\"데이터 경로: {data_path}\")\n",
    "print(f\"데이터 폴더 존재 여부: {os.path.exists(data_path)}\")"
   ]
  },
  {
   "cell_type": "code",
   "execution_count": 2,
   "metadata": {
    "executionInfo": {
     "elapsed": 7640,
     "status": "ok",
     "timestamp": 1700314537985,
     "user": {
      "displayName": "Ynot(송원호)",
      "userId": "16271863862696372773"
     },
     "user_tz": -540
    },
    "id": "5lFQ-gpjnN_m"
   },
   "outputs": [
    {
     "name": "stdout",
     "output_type": "stream",
     "text": [
      "데이터 폴더 내용:\n",
      "  📁 test/\n",
      "  📄 meta.csv\n",
      "  📄 sample_submission.csv\n",
      "  📁 train/\n",
      "  📄 train.csv\n"
     ]
    }
   ],
   "source": [
    "# 데이터 폴더 내용 확인\n",
    "# data 폴더에 있는 파일들을 확인합니다.\n",
    "import os\n",
    "\n",
    "if os.path.exists(data_path):\n",
    "    print(\"데이터 폴더 내용:\")\n",
    "    for item in os.listdir(data_path):\n",
    "        item_path = os.path.join(data_path, item)\n",
    "        if os.path.isdir(item_path):\n",
    "            print(f\"  📁 {item}/\")\n",
    "        else:\n",
    "            print(f\"  📄 {item}\")\n",
    "else:\n",
    "    print(\"⚠️ 데이터 폴더가 존재하지 않습니다. 경로를 확인해주세요.\")"
   ]
  },
  {
   "cell_type": "code",
   "execution_count": 3,
   "metadata": {
    "colab": {
     "base_uri": "https://localhost:8080/"
    },
    "executionInfo": {
     "elapsed": 8489,
     "status": "ok",
     "timestamp": 1700314558888,
     "user": {
      "displayName": "Ynot(송원호)",
      "userId": "16271863862696372773"
     },
     "user_tz": -540
    },
    "id": "NC8V-D393wY4",
    "outputId": "e9927325-26c4-4b89-9c51-c1d6541388d6"
   },
   "outputs": [
    {
     "name": "stdout",
     "output_type": "stream",
     "text": [
      "Requirement already satisfied: timm in /home/james/anaconda3/envs/cv-competition/lib/python3.10/site-packages (0.6.12)\n",
      "Requirement already satisfied: torch>=1.7 in /home/james/anaconda3/envs/cv-competition/lib/python3.10/site-packages (from timm) (1.13.1)\n",
      "Requirement already satisfied: torchvision in /home/james/anaconda3/envs/cv-competition/lib/python3.10/site-packages (from timm) (0.14.1)\n",
      "Requirement already satisfied: pyyaml in /home/james/anaconda3/envs/cv-competition/lib/python3.10/site-packages (from timm) (6.0.2)\n",
      "Requirement already satisfied: huggingface-hub in /home/james/anaconda3/envs/cv-competition/lib/python3.10/site-packages (from timm) (0.34.4)\n",
      "Requirement already satisfied: typing-extensions in /home/james/anaconda3/envs/cv-competition/lib/python3.10/site-packages (from torch>=1.7->timm) (4.15.0)\n",
      "Requirement already satisfied: nvidia-cuda-runtime-cu11==11.7.99 in /home/james/anaconda3/envs/cv-competition/lib/python3.10/site-packages (from torch>=1.7->timm) (11.7.99)\n",
      "Requirement already satisfied: nvidia-cudnn-cu11==8.5.0.96 in /home/james/anaconda3/envs/cv-competition/lib/python3.10/site-packages (from torch>=1.7->timm) (8.5.0.96)\n",
      "Requirement already satisfied: nvidia-cublas-cu11==11.10.3.66 in /home/james/anaconda3/envs/cv-competition/lib/python3.10/site-packages (from torch>=1.7->timm) (11.10.3.66)\n",
      "Requirement already satisfied: nvidia-cuda-nvrtc-cu11==11.7.99 in /home/james/anaconda3/envs/cv-competition/lib/python3.10/site-packages (from torch>=1.7->timm) (11.7.99)\n",
      "Requirement already satisfied: setuptools in /home/james/anaconda3/envs/cv-competition/lib/python3.10/site-packages (from nvidia-cublas-cu11==11.10.3.66->torch>=1.7->timm) (78.1.1)\n",
      "Requirement already satisfied: wheel in /home/james/anaconda3/envs/cv-competition/lib/python3.10/site-packages (from nvidia-cublas-cu11==11.10.3.66->torch>=1.7->timm) (0.45.1)\n",
      "Requirement already satisfied: filelock in /home/james/anaconda3/envs/cv-competition/lib/python3.10/site-packages (from huggingface-hub->timm) (3.19.1)\n",
      "Requirement already satisfied: fsspec>=2023.5.0 in /home/james/anaconda3/envs/cv-competition/lib/python3.10/site-packages (from huggingface-hub->timm) (2025.7.0)\n",
      "Requirement already satisfied: packaging>=20.9 in /home/james/anaconda3/envs/cv-competition/lib/python3.10/site-packages (from huggingface-hub->timm) (25.0)\n",
      "Requirement already satisfied: requests in /home/james/anaconda3/envs/cv-competition/lib/python3.10/site-packages (from huggingface-hub->timm) (2.32.5)\n",
      "Requirement already satisfied: tqdm>=4.42.1 in /home/james/anaconda3/envs/cv-competition/lib/python3.10/site-packages (from huggingface-hub->timm) (4.67.1)\n",
      "Requirement already satisfied: hf-xet<2.0.0,>=1.1.3 in /home/james/anaconda3/envs/cv-competition/lib/python3.10/site-packages (from huggingface-hub->timm) (1.1.9)\n",
      "Requirement already satisfied: charset_normalizer<4,>=2 in /home/james/anaconda3/envs/cv-competition/lib/python3.10/site-packages (from requests->huggingface-hub->timm) (3.4.3)\n",
      "Requirement already satisfied: idna<4,>=2.5 in /home/james/anaconda3/envs/cv-competition/lib/python3.10/site-packages (from requests->huggingface-hub->timm) (3.10)\n",
      "Requirement already satisfied: urllib3<3,>=1.21.1 in /home/james/anaconda3/envs/cv-competition/lib/python3.10/site-packages (from requests->huggingface-hub->timm) (2.5.0)\n",
      "Requirement already satisfied: certifi>=2017.4.17 in /home/james/anaconda3/envs/cv-competition/lib/python3.10/site-packages (from requests->huggingface-hub->timm) (2025.8.3)\n",
      "Requirement already satisfied: numpy in /home/james/anaconda3/envs/cv-competition/lib/python3.10/site-packages (from torchvision->timm) (1.26.0)\n",
      "Requirement already satisfied: pillow!=8.3.*,>=5.3.0 in /home/james/anaconda3/envs/cv-competition/lib/python3.10/site-packages (from torchvision->timm) (9.4.0)\n"
     ]
    }
   ],
   "source": [
    "# 필요한 라이브러리를 설치합니다.\n",
    "!pip install timm"
   ]
  },
  {
   "attachments": {},
   "cell_type": "markdown",
   "metadata": {
    "id": "PXa_FPM73R9f"
   },
   "source": [
    "## 2. Import Library & Define Functions\n",
    "* 학습 및 추론에 필요한 라이브러리를 로드합니다.\n",
    "* 학습 및 추론에 필요한 함수와 클래스를 정의합니다."
   ]
  },
  {
   "cell_type": "code",
   "execution_count": 4,
   "metadata": {
    "executionInfo": {
     "elapsed": 9396,
     "status": "ok",
     "timestamp": 1700314592802,
     "user": {
      "displayName": "Ynot(송원호)",
      "userId": "16271863862696372773"
     },
     "user_tz": -540
    },
    "id": "3BaoIkv5Xwa0"
   },
   "outputs": [],
   "source": [
    "import os\n",
    "import time\n",
    "import random\n",
    "\n",
    "import timm\n",
    "import torch\n",
    "import albumentations as A\n",
    "import pandas as pd\n",
    "import numpy as np\n",
    "import torch.nn as nn\n",
    "from albumentations.pytorch import ToTensorV2\n",
    "from torch.optim import Adam\n",
    "from torchvision import transforms\n",
    "from torch.utils.data import Dataset, DataLoader\n",
    "from PIL import Image\n",
    "from tqdm import tqdm\n",
    "from sklearn.metrics import accuracy_score, f1_score"
   ]
  },
  {
   "cell_type": "code",
   "execution_count": 5,
   "metadata": {},
   "outputs": [],
   "source": [
    "# 시드를 고정합니다.\n",
    "SEED = 42\n",
    "os.environ['PYTHONHASHSEED'] = str(SEED)\n",
    "random.seed(SEED)\n",
    "np.random.seed(SEED)\n",
    "torch.manual_seed(SEED)\n",
    "torch.cuda.manual_seed(SEED)\n",
    "torch.cuda.manual_seed_all(SEED)\n",
    "torch.backends.cudnn.benchmark = True"
   ]
  },
  {
   "cell_type": "code",
   "execution_count": 6,
   "metadata": {
    "executionInfo": {
     "elapsed": 241,
     "status": "ok",
     "timestamp": 1700314772722,
     "user": {
      "displayName": "Ynot(송원호)",
      "userId": "16271863862696372773"
     },
     "user_tz": -540
    },
    "id": "Hyl8oAy6TZAu"
   },
   "outputs": [],
   "source": [
    "# 이미지 데이터셋 클래스 정의\n",
    "# PyTorch의 Dataset 클래스를 상속받아 커스텀 데이터셋 구현\n",
    "class ImageDataset(Dataset):\n",
    "    \"\"\"\n",
    "    문서 이미지 분류를 위한 커스텀 데이터셋 클래스\n",
    "    \n",
    "    Args:\n",
    "        csv: CSV 파일 경로 (이미지 파일명과 라벨 정보 포함)\n",
    "        path: 이미지 파일들이 저장된 디렉토리 경로\n",
    "        transform: 이미지 전처리를 위한 변환 함수 (선택사항)\n",
    "    \"\"\"\n",
    "    \n",
    "    def __init__(self, csv, path, transform=None):\n",
    "        self.df = pd.read_csv(csv).values  # CSV 파일을 읽어 numpy 배열로 변환\n",
    "        self.path = path                   # 이미지 파일 경로\n",
    "        self.transform = transform         # 이미지 변환 함수\n",
    "\n",
    "    def __len__(self):\n",
    "        \"\"\"데이터셋의 전체 샘플 수 반환\"\"\"\n",
    "        return len(self.df)\n",
    "\n",
    "    def __getitem__(self, idx):\n",
    "        \"\"\"\n",
    "        주어진 인덱스의 데이터 샘플 반환\n",
    "        \n",
    "        Args:\n",
    "            idx: 데이터 인덱스\n",
    "            \n",
    "        Returns:\n",
    "            tuple: (이미지 텐서, 타겟 라벨)\n",
    "        \"\"\"\n",
    "        name, target = self.df[idx]                                    # 파일명과 타겟 추출\n",
    "        img = np.array(Image.open(os.path.join(self.path, name)))     # 이미지 로드\n",
    "        \n",
    "        if self.transform:\n",
    "            img = self.transform(image=img)['image']                   # 이미지 변환 적용\n",
    "            \n",
    "        return img, target"
   ]
  },
  {
   "cell_type": "code",
   "execution_count": 7,
   "metadata": {
    "executionInfo": {
     "elapsed": 255,
     "status": "ok",
     "timestamp": 1700315066028,
     "user": {
      "displayName": "Ynot(송원호)",
      "userId": "16271863862696372773"
     },
     "user_tz": -540
    },
    "id": "kTECBJfVTbdl"
   },
   "outputs": [],
   "source": [
    "# one epoch 학습을 위한 함수입니다.\n",
    "def train_one_epoch(loader, model, optimizer, loss_fn, device):\n",
    "    model.train()\n",
    "    train_loss = 0\n",
    "    preds_list = []\n",
    "    targets_list = []\n",
    "\n",
    "    pbar = tqdm(loader)\n",
    "    for image, targets in pbar:\n",
    "        image = image.to(device)\n",
    "        targets = targets.to(device)\n",
    "\n",
    "        model.zero_grad(set_to_none=True)\n",
    "\n",
    "        preds = model(image)\n",
    "        loss = loss_fn(preds, targets)\n",
    "        loss.backward()\n",
    "        optimizer.step()\n",
    "\n",
    "        train_loss += loss.item()\n",
    "        preds_list.extend(preds.argmax(dim=1).detach().cpu().numpy())\n",
    "        targets_list.extend(targets.detach().cpu().numpy())\n",
    "\n",
    "        pbar.set_description(f\"Loss: {loss.item():.4f}\")\n",
    "\n",
    "    train_loss /= len(loader)\n",
    "    train_acc = accuracy_score(targets_list, preds_list)\n",
    "    train_f1 = f1_score(targets_list, preds_list, average='macro')\n",
    "\n",
    "    ret = {\n",
    "        \"train_loss\": train_loss,\n",
    "        \"train_acc\": train_acc,\n",
    "        \"train_f1\": train_f1,\n",
    "    }\n",
    "\n",
    "    return ret"
   ]
  },
  {
   "attachments": {},
   "cell_type": "markdown",
   "metadata": {
    "id": "Wjom43UvoXcx"
   },
   "source": [
    "## 3. Hyper-parameters\n",
    "* 학습 및 추론에 필요한 하이퍼파라미터들을 정의합니다."
   ]
  },
  {
   "cell_type": "code",
   "execution_count": 8,
   "metadata": {
    "executionInfo": {
     "elapsed": 436,
     "status": "ok",
     "timestamp": 1700315112439,
     "user": {
      "displayName": "Ynot(송원호)",
      "userId": "16271863862696372773"
     },
     "user_tz": -540
    },
    "id": "KByfAeRmXwYk"
   },
   "outputs": [
    {
     "name": "stdout",
     "output_type": "stream",
     "text": [
      "사용 디바이스: cuda\n",
      "데이터 경로: /home/james/doc-classification/computervisioncompetition-cv3/data\n"
     ]
    }
   ],
   "source": [
    "# device 설정 - GPU가 사용 가능하면 GPU, 아니면 CPU 사용\n",
    "device = torch.device('cuda' if torch.cuda.is_available() else 'cpu')\n",
    "print(f\"사용 디바이스: {device}\")\n",
    "\n",
    "# data config - 데이터 경로 설정\n",
    "# 이미 위에서 설정한 data_path 변수를 사용\n",
    "print(f\"데이터 경로: {data_path}\")\n",
    "\n",
    "# model config - 사용할 모델 설정\n",
    "model_name = 'resnet34'  # 다른 옵션: 'resnet50', 'efficientnet-b0', etc.\n",
    "\n",
    "# training config - 학습 관련 하이퍼파라미터\n",
    "img_size = 32        # 입력 이미지 크기\n",
    "LR = 1e-3           # 학습률 (Learning Rate)\n",
    "EPOCHS = 1          # 학습 에포크 수\n",
    "BATCH_SIZE = 32     # 배치 크기\n",
    "num_workers = 0     # 데이터 로더 워커 수"
   ]
  },
  {
   "attachments": {},
   "cell_type": "markdown",
   "metadata": {
    "id": "amum-FlIojc6"
   },
   "source": [
    "## 4. Load Data\n",
    "* 학습, 테스트 데이터셋과 로더를 정의합니다."
   ]
  },
  {
   "cell_type": "code",
   "execution_count": 9,
   "metadata": {
    "executionInfo": {
     "elapsed": 1,
     "status": "ok",
     "timestamp": 1700315112439,
     "user": {
      "displayName": "Ynot(송원호)",
      "userId": "16271863862696372773"
     },
     "user_tz": -540
    },
    "id": "llh5C7ZKoq2S"
   },
   "outputs": [],
   "source": [
    "# augmentation을 위한 transform 코드\n",
    "trn_transform = A.Compose([\n",
    "    # 이미지 크기 조정\n",
    "    A.Resize(height=img_size, width=img_size),\n",
    "    # images normalization\n",
    "    A.Normalize(mean=[0.485, 0.456, 0.406], std=[0.229, 0.224, 0.225]),\n",
    "    # numpy 이미지나 PIL 이미지를 PyTorch 텐서로 변환\n",
    "    ToTensorV2(),\n",
    "])\n",
    "\n",
    "# test image 변환을 위한 transform 코드\n",
    "tst_transform = A.Compose([\n",
    "    A.Resize(height=img_size, width=img_size),\n",
    "    A.Normalize(mean=[0.485, 0.456, 0.406], std=[0.229, 0.224, 0.225]),\n",
    "    ToTensorV2(),\n",
    "])"
   ]
  },
  {
   "cell_type": "code",
   "execution_count": 10,
   "metadata": {
    "colab": {
     "base_uri": "https://localhost:8080/"
    },
    "executionInfo": {
     "elapsed": 3,
     "status": "ok",
     "timestamp": 1700315112808,
     "user": {
      "displayName": "Ynot(송원호)",
      "userId": "16271863862696372773"
     },
     "user_tz": -540
    },
    "id": "INxdmsStop2L",
    "outputId": "49f0d412-8ce6-4d2f-ae78-d5cf3d056340"
   },
   "outputs": [
    {
     "name": "stdout",
     "output_type": "stream",
     "text": [
      "학습 데이터셋 크기: 1570, 테스트 데이터셋 크기: 3140\n"
     ]
    }
   ],
   "source": [
    "# Dataset 정의 - 학습 및 테스트 데이터셋 생성\n",
    "# 로컬 data 폴더의 파일들을 사용하여 데이터셋 생성\n",
    "trn_dataset = ImageDataset(\n",
    "    os.path.join(data_path, \"train.csv\"),          # 학습 데이터 CSV 파일 경로\n",
    "    os.path.join(data_path, \"train/\"),             # 학습 이미지 폴더 경로\n",
    "    transform=trn_transform                         # 학습용 데이터 변환\n",
    ")\n",
    "\n",
    "tst_dataset = ImageDataset(\n",
    "    os.path.join(data_path, \"sample_submission.csv\"),  # 테스트 데이터 CSV 파일 경로\n",
    "    os.path.join(data_path, \"test/\"),                  # 테스트 이미지 폴더 경로\n",
    "    transform=tst_transform                             # 테스트용 데이터 변환\n",
    ")\n",
    "\n",
    "print(f\"학습 데이터셋 크기: {len(trn_dataset)}, 테스트 데이터셋 크기: {len(tst_dataset)}\")"
   ]
  },
  {
   "cell_type": "code",
   "execution_count": 11,
   "metadata": {
    "executionInfo": {
     "elapsed": 1,
     "status": "ok",
     "timestamp": 1700315112808,
     "user": {
      "displayName": "Ynot(송원호)",
      "userId": "16271863862696372773"
     },
     "user_tz": -540
    },
    "id": "_sO03fWaQj1h"
   },
   "outputs": [],
   "source": [
    "# DataLoader 정의 - 배치 단위로 데이터를 로드하는 데이터 로더 생성\n",
    "# 학습용 데이터 로더: 데이터 순서를 섞어서 로드\n",
    "trn_loader = DataLoader(\n",
    "    trn_dataset,\n",
    "    batch_size=BATCH_SIZE,    # 배치 크기\n",
    "    shuffle=True,             # 데이터 순서 섞기 (학습 시 중요)\n",
    "    num_workers=num_workers,  # 멀티프로세싱 워커 수\n",
    "    pin_memory=True,          # GPU 메모리 최적화\n",
    "    drop_last=False           # 마지막 배치가 작아도 포함\n",
    ")\n",
    "\n",
    "# 테스트용 데이터 로더: 데이터 순서를 유지하여 로드\n",
    "tst_loader = DataLoader(\n",
    "    tst_dataset,\n",
    "    batch_size=BATCH_SIZE,    # 배치 크기\n",
    "    shuffle=False,            # 데이터 순서 유지 (예측 시 중요)\n",
    "    num_workers=0,            # 워커 수 (예측 시에는 보통 0으로 설정)\n",
    "    pin_memory=True           # GPU 메모리 최적화\n",
    ")"
   ]
  },
  {
   "attachments": {},
   "cell_type": "markdown",
   "metadata": {
    "id": "Nmm5h3J-pXNV"
   },
   "source": [
    "## 5. Train Model\n",
    "* 모델을 로드하고, 학습을 진행합니다."
   ]
  },
  {
   "cell_type": "code",
   "execution_count": 12,
   "metadata": {
    "executionInfo": {
     "elapsed": 870,
     "status": "ok",
     "timestamp": 1700315114067,
     "user": {
      "displayName": "Ynot(송원호)",
      "userId": "16271863862696372773"
     },
     "user_tz": -540
    },
    "id": "FbBgFPsLT-CO"
   },
   "outputs": [
    {
     "name": "stderr",
     "output_type": "stream",
     "text": [
      "Downloading: \"https://github.com/rwightman/pytorch-image-models/releases/download/v0.1-weights/resnet34-43635321.pth\" to /home/james/.cache/torch/hub/checkpoints/resnet34-43635321.pth\n"
     ]
    }
   ],
   "source": [
    "# load model\n",
    "model = timm.create_model(\n",
    "    model_name,\n",
    "    pretrained=True,\n",
    "    num_classes=17\n",
    ").to(device)\n",
    "loss_fn = nn.CrossEntropyLoss()\n",
    "optimizer = Adam(model.parameters(), lr=LR)"
   ]
  },
  {
   "cell_type": "code",
   "execution_count": 13,
   "metadata": {
    "colab": {
     "base_uri": "https://localhost:8080/"
    },
    "executionInfo": {
     "elapsed": 8778,
     "status": "ok",
     "timestamp": 1700315122843,
     "user": {
      "displayName": "Ynot(송원호)",
      "userId": "16271863862696372773"
     },
     "user_tz": -540
    },
    "id": "OvIVcSRgUPtS",
    "outputId": "88230bf2-976f-45f6-b3b7-1a2d0ad00548"
   },
   "outputs": [
    {
     "name": "stderr",
     "output_type": "stream",
     "text": [
      "  0%|          | 0/50 [00:00<?, ?it/s]"
     ]
    },
    {
     "ename": "",
     "evalue": "",
     "output_type": "error",
     "traceback": [
      "\u001b[1;31mThe Kernel crashed while executing code in the current cell or a previous cell. \n",
      "\u001b[1;31mPlease review the code in the cell(s) to identify a possible cause of the failure. \n",
      "\u001b[1;31mClick <a href='https://aka.ms/vscodeJupyterKernelCrash'>here</a> for more info. \n",
      "\u001b[1;31mView Jupyter <a href='command:jupyter.viewOutput'>log</a> for further details."
     ]
    }
   ],
   "source": [
    "for epoch in range(EPOCHS):\n",
    "    ret = train_one_epoch(trn_loader, model, optimizer, loss_fn, device=device)\n",
    "    ret['epoch'] = epoch\n",
    "\n",
    "    log = \"\"\n",
    "    for k, v in ret.items():\n",
    "      log += f\"{k}: {v:.4f}\\n\"\n",
    "    print(log)"
   ]
  },
  {
   "attachments": {},
   "cell_type": "markdown",
   "metadata": {
    "id": "lkwxRXoBpbaX"
   },
   "source": [
    "# 6. Inference & Save File\n",
    "* 테스트 이미지에 대한 추론을 진행하고, 결과 파일을 저장합니다."
   ]
  },
  {
   "cell_type": "code",
   "execution_count": null,
   "metadata": {
    "colab": {
     "base_uri": "https://localhost:8080/"
    },
    "executionInfo": {
     "elapsed": 12776,
     "status": "ok",
     "timestamp": 1700315185336,
     "user": {
      "displayName": "Ynot(송원호)",
      "userId": "16271863862696372773"
     },
     "user_tz": -540
    },
    "id": "uRYe6jlPU_Om",
    "outputId": "2a08690c-9ffe-418d-8679-eb9280147110"
   },
   "outputs": [],
   "source": [
    "# 테스트 데이터에 대한 추론 수행\n",
    "preds_list = []\n",
    "\n",
    "model.eval()  # 모델을 평가 모드로 설정 (드롭아웃, 배치 정규화 비활성화)\n",
    "\n",
    "# 테스트 데이터 배치별로 예측 수행\n",
    "for image, _ in tqdm(tst_loader, desc=\"추론 진행 중\"):\n",
    "    image = image.to(device)  # 이미지를 GPU/CPU로 이동\n",
    "\n",
    "    with torch.no_grad():     # 그래디언트 계산 비활성화 (메모리 절약, 속도 향상)\n",
    "        preds = model(image)  # 모델 예측 수행\n",
    "    \n",
    "    # 예측 결과에서 가장 높은 확률의 클래스 선택\n",
    "    preds_list.extend(preds.argmax(dim=1).detach().cpu().numpy())"
   ]
  },
  {
   "cell_type": "code",
   "execution_count": null,
   "metadata": {
    "executionInfo": {
     "elapsed": 282,
     "status": "ok",
     "timestamp": 1700315216829,
     "user": {
      "displayName": "Ynot(송원호)",
      "userId": "16271863862696372773"
     },
     "user_tz": -540
    },
    "id": "aClN7Qi7VZoh"
   },
   "outputs": [],
   "source": [
    "# 예측 결과를 DataFrame으로 정리\n",
    "# 테스트 데이터의 ID와 예측된 타겟으로 결과 DataFrame 생성\n",
    "pred_df = pd.DataFrame(tst_dataset.df, columns=['ID', 'target'])\n",
    "pred_df['target'] = preds_list  # 예측 결과로 타겟 값 업데이트\n",
    "\n",
    "print(f\"예측 완료: {len(pred_df)}개 샘플\")"
   ]
  },
  {
   "cell_type": "code",
   "execution_count": null,
   "metadata": {
    "executionInfo": {
     "elapsed": 1,
     "status": "ok",
     "timestamp": 1700315238836,
     "user": {
      "displayName": "Ynot(송원호)",
      "userId": "16271863862696372773"
     },
     "user_tz": -540
    },
    "id": "VDBXQqAzVvLY"
   },
   "outputs": [],
   "source": [
    "# 제출 파일 형식 검증 - sample_submission.csv와 예측 결과의 ID가 일치하는지 확인\n",
    "sample_submission_df = pd.read_csv(os.path.join(data_path, \"sample_submission.csv\"))\n",
    "assert (sample_submission_df['ID'] == pred_df['ID']).all(), \"ID가 일치하지 않습니다!\"\n",
    "print(\"✅ 제출 파일 형식 검증 완료\")"
   ]
  },
  {
   "cell_type": "code",
   "execution_count": null,
   "metadata": {
    "executionInfo": {
     "elapsed": 317,
     "status": "ok",
     "timestamp": 1700315244710,
     "user": {
      "displayName": "Ynot(송원호)",
      "userId": "16271863862696372773"
     },
     "user_tz": -540
    },
    "id": "ePx2vCELVnuS"
   },
   "outputs": [],
   "source": [
    "# 예측 결과를 CSV 파일로 저장\n",
    "output_file = \"pred.csv\"\n",
    "pred_df.to_csv(output_file, index=False)\n",
    "print(f\"✅ 예측 결과가 '{output_file}' 파일로 저장되었습니다.\")"
   ]
  },
  {
   "cell_type": "code",
   "execution_count": null,
   "metadata": {
    "colab": {
     "base_uri": "https://localhost:8080/",
     "height": 206
    },
    "executionInfo": {
     "elapsed": 353,
     "status": "ok",
     "timestamp": 1700315247734,
     "user": {
      "displayName": "Ynot(송원호)",
      "userId": "16271863862696372773"
     },
     "user_tz": -540
    },
    "id": "9yMO8s6GqAwZ",
    "outputId": "9a30616f-f0ea-439f-a906-dd806737ce00"
   },
   "outputs": [],
   "source": [
    "pred_df.head()"
   ]
  }
 ],
 "metadata": {
  "accelerator": "GPU",
  "colab": {
   "provenance": []
  },
  "kernelspec": {
   "display_name": "cv-competition",
   "language": "python",
   "name": "cv-competition"
  },
  "language_info": {
   "codemirror_mode": {
    "name": "ipython",
    "version": 3
   },
   "file_extension": ".py",
   "mimetype": "text/x-python",
   "name": "python",
   "nbconvert_exporter": "python",
   "pygments_lexer": "ipython3",
   "version": "3.10.18"
  }
 },
 "nbformat": 4,
 "nbformat_minor": 0
}
